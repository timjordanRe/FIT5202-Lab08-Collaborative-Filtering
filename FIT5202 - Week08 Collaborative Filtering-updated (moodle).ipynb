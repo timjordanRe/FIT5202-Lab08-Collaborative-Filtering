{
 "cells": [
  {
   "cell_type": "markdown",
   "metadata": {},
   "source": [
    "# FIT5202 : Music Recommendation using Collaborative Filtering\n",
    "\n",
    "Collaborative filtering (CF) is a technique commonly used to build personalized recommendations on the Web. Some popular websites that make use of the collaborative filtering technology include Amazon, Netflix, iTunes, IMDB, LastFM, Delicious and StumbleUpon. In collaborative filtering, algorithms are used to make automatic predictions about a user's interests by compiling preferences from several users.\n",
    "\n",
    "In this lab, our task is to use a collaborative algorithm to recommend top artists from the given dataset. The dataset can be downloaded from Moodle. \n",
    "<p style=\"color:red\">Complete the required tasks in the tutorial. The activites are denoted as \"Task\" with the required instructions.</p>\n",
    "<br/>\n",
    "\n",
    "## Table of Contents\n",
    "\n",
    "* [ALS Lecture Demo](#als-demo)\n",
    "* [Use-Case Music Recommendation](#use-case)\n",
    "    * [Data Loading](#data-loading)\n",
    "    * [Data Preparation](#data-prep)\n",
    "    * [Data Exploration](#data-exploration)\n",
    "    * [Train-Test Split](#train-test-split)\n",
    "    * [Model Building](#model-building)\n",
    "    * [Evaluation](#evaluation)\n",
    "    * [Hyperparameter Tuning and Cross Validation](#cv)\n",
    "    * [Making Predictions](#predictions)    \n",
    "* [Lab Tasks](#lab-task-1)\n",
    "    * [Lab Task 1](#lab-task-1)\n",
    "    * [Lab Task 2](#lab-task-2)\n",
    "    * [Lab Task 3](#lab-task-3)\n",
    "    * [Lab Task 4](#lab-task-4)\n",
    "    * [Lab Task 5](#lab-task-5)\n",
    "    * [Lab Task 6](#lab-task-6)\n",
    "    \n",
    "## Including Libraries and Initializing Spark Context"
   ]
  },
  {
   "cell_type": "code",
   "execution_count": 2,
   "metadata": {},
   "outputs": [],
   "source": [
    "#import libraries\n",
    "from pyspark import SparkContext\n",
    "from pyspark.ml.recommendation import ALS\n",
    "from pyspark.sql import SparkSession ,Row\n",
    "from pyspark.sql.functions import col,split\n",
    "from pyspark.sql.types import StructType,StructField,IntegerType,StringType\n",
    "\n",
    "\n",
    "appName=\"Collaborative Filtering with PySpark\"\n",
    "#initialize the spark session\n",
    "spark = SparkSession.builder.appName(appName).getOrCreate()\n",
    "#get sparkcontext from the sparksession\n",
    "sc = spark.sparkContext"
   ]
  },
  {
   "cell_type": "markdown",
   "metadata": {},
   "source": [
    "## Alternating Least Squares DEMO <a class=\"anchor\" name=\"als-demo\"></a>\n",
    "\n",
    "Please go through the ALS Demo presented in the Lecture to understand the basic flow before starting with the lab tasks."
   ]
  },
  {
   "cell_type": "markdown",
   "metadata": {
    "tags": []
   },
   "source": [
    "## Use-Case : Music Recommendation <a class=\"anchor\" name=\"use-case\"></a>\n",
    "The goal here is to use the data provided to create a recommendation system using collaborative filtering using the social influence data and predict artists a user might like but have not listened to.\n",
    "\n",
    "> Consider the following example. If user A is a neighbor of user B, and they have similar musical tastes, then there is a very strong tie between them. If user B is a big fan of artist C, and has scrobbled them numerous times, then there is also a strong tie between them. Based on last.fm’s data, user A has not yet listened to artist C (no link has formed between them yet), and there is a good chance that user A will also like artist C.<a href=\"https://blogs.cornell.edu/info2040/2012/09/20/last-fm-music-reccomendation-incorporating-social-network-ties-and-collaborative-filtering/#:~:text=their%20listening%20frequency.-,Last.,in%20the%20user's%20local%20network.\" target=\"_BLANK\">Ref</a>\n",
    "\n",
    "\n",
    "The original dataset is available at <a href=\"https://www.last.fm/api/\" target=\"_blank\">last.fm api</a>. The dataset provided here is a lighter version, resized for the sake of simplicity. The dataset contains three files as follows:\n",
    "<ul>\n",
    "    <li><strong>user_artist_data.txt</strong>\n",
    "        3 columns: <code>user_id, artist_id, playcount</code></li>\n",
    "    <li><strong>artist_data.txt</strong>\n",
    "        2 columns: <code>artist_id ,artist_name</code></li>\n",
    "    <li><strong>artist_alias.txt</strong>\n",
    "        2 columns: <code>bad_id, good_id</code>\n",
    "        [known incorrectly spelt artists and the correct artist id].</li>\n",
    "</ul>\n",
    "\n",
    "<a class=\"anchor\" id=\"lab-task-1\"></a>\n",
    "<div style=\"background:rgba(0,109,174,0.2);padding:10px;border-radius:4px\"><strong style=\"color:#FF5555\">1. Lab Task: </strong> \n",
    "Import the two other files (user_artist_data.txt and artist_alias.txt) to create two dataframes <code>df_artist_alias</code> and <code>df_user_artist</code>\n",
    "    \n",
    "<strong style=\"color:red\">NOTE:</strong> Check the <strong>delimiter</strong> used in these files. <code>\\t</code> may not be used for all files.\n",
    "</div>.\n",
    "\n",
    "\n"
   ]
  },
  {
   "cell_type": "markdown",
   "metadata": {},
   "source": [
    "## Data Loading <a class=\"anchor\" name=\"data-loading\"></a>"
   ]
  },
  {
   "cell_type": "code",
   "execution_count": 28,
   "metadata": {},
   "outputs": [
    {
     "data": {
      "text/plain": [
       "'/home/student'"
      ]
     },
     "execution_count": 28,
     "metadata": {},
     "output_type": "execute_result"
    }
   ],
   "source": [
    "import os\n",
    "os.getcwd()"
   ]
  },
  {
   "cell_type": "code",
   "execution_count": 29,
   "metadata": {},
   "outputs": [],
   "source": [
    "root_path = \"Labs/Week08/data\""
   ]
  },
  {
   "cell_type": "code",
   "execution_count": 30,
   "metadata": {},
   "outputs": [],
   "source": [
    "df = spark.read.text(os.path.join(root_path,\"artist_data.txt\"))\n",
    "split_col = split(df['value'], '\\t')\n",
    "df = df.withColumn('artist_id', split_col.getItem(0))\n",
    "df = df.withColumn('artist_name', split_col.getItem(1))\n",
    "df_artist=df.drop('value')"
   ]
  },
  {
   "cell_type": "code",
   "execution_count": 31,
   "metadata": {},
   "outputs": [
    {
     "name": "stdout",
     "output_type": "stream",
     "text": [
      "+---------+------------+\n",
      "|artist_id| artist_name|\n",
      "+---------+------------+\n",
      "|  1240105|André Visior|\n",
      "+---------+------------+\n",
      "only showing top 1 row\n",
      "\n"
     ]
    }
   ],
   "source": [
    "df_artist.show(1)"
   ]
  },
  {
   "cell_type": "code",
   "execution_count": 32,
   "metadata": {},
   "outputs": [],
   "source": [
    "#Load user_artist_data.txt to a dataframe called df_user_artist\n",
    "df = spark.read.text(os.path.join(root_path,\"user_artist_data.txt\"))\n",
    "split_col = split(df['value'], ' ')\n",
    "df = df.withColumn('user_id', split_col.getItem(0))\n",
    "df = df.withColumn('artist_id', split_col.getItem(1))\n",
    "df = df.withColumn('play_count', split_col.getItem(2))\n",
    "df_user_artist=df.drop('value')"
   ]
  },
  {
   "cell_type": "code",
   "execution_count": 33,
   "metadata": {},
   "outputs": [],
   "source": [
    "#Load artist_alias.txt to a dataframe called df_artist_alias\n",
    "df = spark.read.text(os.path.join(root_path,\"artist_alias.txt\"))\n",
    "split_col = split(df['value'], '\\t')\n",
    "df = df.withColumn('bad_id', split_col.getItem(0))\n",
    "df = df.withColumn('good_id', split_col.getItem(1))\n",
    "df_artist_alias=df.drop('value')"
   ]
  },
  {
   "cell_type": "markdown",
   "metadata": {},
   "source": [
    "## Data Preparation <a class=\"anchor\" name=\"data-prep\"></a>"
   ]
  },
  {
   "cell_type": "markdown",
   "metadata": {},
   "source": [
    "The <code>df_user_artist</code> contains <strong>bad ids</strong>, so the <strong>bad ids</strong> in the <code>user_artist_data.txt</code> file need to be remapped to <strong>goodids</strong>. The mapping of <strong>bad_ids</strong> to <strong>good_ids</strong> is in <strong>artist_alias.txt</strong> file. The first task is to create a dictionary of the artist_alias, so that it can be passed over a <strong>broadcast variable</strong>."
   ]
  },
  {
   "cell_type": "markdown",
   "metadata": {},
   "source": [
    "Broadcast makes Spark send and hold in memory just one copy for each executor in the cluster. When there are thousands of tasks, and many execute in parallel on each executor, this can save significant network traffic and memory.\n",
    "But you cannot directly broadcast a dataframe, it has to be converted to a list first"
   ]
  },
  {
   "cell_type": "code",
   "execution_count": 34,
   "metadata": {},
   "outputs": [],
   "source": [
    "from pyspark.sql.functions import col, broadcast"
   ]
  },
  {
   "cell_type": "code",
   "execution_count": 35,
   "metadata": {},
   "outputs": [],
   "source": [
    "#After loading the artist_alias data to the dataframe, it is converted to a dictionary to be set as a broadcast variable\n",
    "artist_alias = dict(df_artist_alias.collect())"
   ]
  },
  {
   "cell_type": "markdown",
   "metadata": {},
   "source": [
    "<a class=\"anchor\" id=\"lab-task-2\"></a>\n",
    "<div style=\"background:rgba(0,109,174,0.2);padding:10px;border-radius:4px\"><strong style=\"color:#FF5555\">2. Lab Task: </strong> \n",
    "For the dictionary <strong>artist_alias</strong> which contains key value pair of badid and goodid, create a broadcast variable called <strong>bArtistAlias</strong>.\n",
    "</div>"
   ]
  },
  {
   "cell_type": "code",
   "execution_count": 36,
   "metadata": {},
   "outputs": [],
   "source": [
    "#Write the code below to create a broadcast variable bArtistAlias\n",
    "# Hints: apply sc.broadcast on artist_alias\n",
    "bArtistAlias = sc.broadcast(artist_alias)"
   ]
  },
  {
   "cell_type": "markdown",
   "metadata": {},
   "source": [
    "After the broadcast variable is created, a function to replace the badids by looking up the values from the broadcasted dictionary is implemented.\n"
   ]
  },
  {
   "cell_type": "code",
   "execution_count": 37,
   "metadata": {},
   "outputs": [],
   "source": [
    "from pyspark.sql.functions import udf, struct\n",
    "def lookup_correct_id(artist_id):    \n",
    "    finalArtistID = bArtistAlias.value.get(artist_id)\n",
    "    if finalArtistID is None:\n",
    "        finalArtistID = artist_id\n",
    "    return finalArtistID    \n",
    "\n",
    "lookup_udf = udf(lookup_correct_id, StringType())"
   ]
  },
  {
   "cell_type": "markdown",
   "metadata": {},
   "source": [
    "<a class=\"anchor\" id=\"lab-task-3\"></a>\n",
    "<div style=\"background:rgba(0,109,174,0.2);padding:10px;border-radius:4px\"><strong style=\"color:#FF5555\">3. Lab Task: </strong> \n",
    "    Apply the udf <code>lookup_udf</code> on the column of 'artist_id' to replace the \"badids\" in the <code>df_user_artist</code> dataframe.\n",
    "</div>"
   ]
  },
  {
   "cell_type": "code",
   "execution_count": 38,
   "metadata": {},
   "outputs": [],
   "source": [
    "#Write your code below\n",
    "df_user_artist = df_user_artist.withColumn('artist_id', lookup_udf('artist_id'))"
   ]
  },
  {
   "cell_type": "markdown",
   "metadata": {},
   "source": [
    "When we want to repeteadly access a dataframe or an RDD, it is a good idea to cache them, it helps to speed up applications."
   ]
  },
  {
   "cell_type": "code",
   "execution_count": 39,
   "metadata": {},
   "outputs": [
    {
     "data": {
      "text/plain": [
       "DataFrame[user_id: string, artist_id: string, play_count: string]"
      ]
     },
     "execution_count": 39,
     "metadata": {},
     "output_type": "execute_result"
    }
   ],
   "source": [
    "#Uncomment this to use caching\n",
    "df_user_artist.cache()"
   ]
  },
  {
   "cell_type": "markdown",
   "metadata": {},
   "source": [
    "## Data Exploration <a class=\"anchor\" name=\"data-exploration\"></a>"
   ]
  },
  {
   "cell_type": "markdown",
   "metadata": {},
   "source": [
    "<div style=\"background:rgba(0,109,174,0.2);padding:10px;border-radius:4px\">\n",
    "    The function below returns top <strong>N</strong> artist for a user with user_id : <code>2062243</code> by joining <code>user</code> and <code>user_artist</code> datasets on the common key <code>artist_id</code>.\n",
    "</div>\n",
    "\n"
   ]
  },
  {
   "cell_type": "code",
   "execution_count": 43,
   "metadata": {},
   "outputs": [
    {
     "name": "stdout",
     "output_type": "stream",
     "text": [
      "+-------+----------+----------------------------+\n",
      "|user_id|play_count|artist_name                 |\n",
      "+-------+----------+----------------------------+\n",
      "|2062243|99        |morgan heritage             |\n",
      "|2062243|98        |Music 205olf                |\n",
      "|2062243|98        |Mountain                    |\n",
      "|2062243|98        |The Moody Blues             |\n",
      "|2062243|98        |Mr C The Slide Man          |\n",
      "|2062243|98        |La Bouche                   |\n",
      "|2062243|98        |Moxy Früvous                |\n",
      "|2062243|98        |Music 205n                  |\n",
      "|2062243|98        |Music 205tills, Nash & Young|\n",
      "|2062243|98        |Music 205nders              |\n",
      "|2062243|98        |Music 205lub                |\n",
      "|2062243|98        |Music 205its                |\n",
      "|2062243|98        |Music 205Satins             |\n",
      "|2062243|98        |Moguai                      |\n",
      "|2062243|98        |Mousse T.                   |\n",
      "|2062243|98        |Mortal Combat Soundtrack    |\n",
      "|2062243|98        |Money Mark                  |\n",
      "|2062243|98        |James Brown                 |\n",
      "|2062243|98        |Nirvana                     |\n",
      "|2062243|974       |Oasis                       |\n",
      "+-------+----------+----------------------------+\n",
      "only showing top 20 rows\n",
      "\n"
     ]
    }
   ],
   "source": [
    "def top_n_artists(artist,user_artist,user_id,limit):\n",
    "    '''Returns top n artists liked by a particular user'''\n",
    "    '''Takes artist,user_artist, user_id and limit as input'''\n",
    "    \n",
    "    df = artist.join(user_artist,artist.artist_id==user_artist.artist_id)\\\n",
    "            .filter(user_artist.user_id==user_id)\\\n",
    "            .sort(user_artist.play_count.desc())\\\n",
    "            .select(user_artist.user_id,user_artist.play_count,artist.artist_name)\\\n",
    "            .limit(limit)\n",
    "    return df  \n",
    "\n",
    "top_n_artists(df_artist,df_user_artist,2062243,60).show(truncate=False)"
   ]
  },
  {
   "cell_type": "markdown",
   "metadata": {},
   "source": [
    "Here we want to convert data types to integer type where required."
   ]
  },
  {
   "cell_type": "code",
   "execution_count": 45,
   "metadata": {},
   "outputs": [],
   "source": [
    "#Cast the data column into integer types\n",
    "for col_name in df_user_artist.columns:\n",
    "    df_user_artist = df_user_artist.withColumn(col_name, df_user_artist[col_name].cast(IntegerType()))\n",
    "\n",
    "df_artist = df_artist.withColumn('artist_id', df_artist['artist_id'].cast(IntegerType()))"
   ]
  },
  {
   "cell_type": "code",
   "execution_count": 46,
   "metadata": {},
   "outputs": [
    {
     "name": "stdout",
     "output_type": "stream",
     "text": [
      "root\n",
      " |-- user_id: integer (nullable = true)\n",
      " |-- artist_id: integer (nullable = true)\n",
      " |-- play_count: integer (nullable = true)\n",
      "\n"
     ]
    }
   ],
   "source": [
    "df_user_artist.printSchema()"
   ]
  },
  {
   "cell_type": "code",
   "execution_count": 47,
   "metadata": {},
   "outputs": [
    {
     "name": "stdout",
     "output_type": "stream",
     "text": [
      "root\n",
      " |-- artist_id: integer (nullable = true)\n",
      " |-- artist_name: string (nullable = true)\n",
      "\n"
     ]
    }
   ],
   "source": [
    "df_artist.printSchema()"
   ]
  },
  {
   "cell_type": "markdown",
   "metadata": {},
   "source": [
    "## Train Test Split <a class=\"anchor\" name=\"train-test-split\"></a>"
   ]
  },
  {
   "cell_type": "markdown",
   "metadata": {},
   "source": [
    "<a class=\"anchor\" id=\"lab-task-4\"></a>\n",
    "<div style=\"background:rgba(0,109,174,0.2);padding:10px;border-radius:4px\"><strong style=\"color:#FF5555\">4. Lab Task: </strong> \n",
    "Create a deterministic 80/20 split of training and testing dataset.\n",
    "</div>"
   ]
  },
  {
   "cell_type": "code",
   "execution_count": 49,
   "metadata": {},
   "outputs": [],
   "source": [
    "from pyspark.sql.functions import split\n",
    "\n",
    "train, test = df_user_artist.randomSplit([0.8, 0.2], 31479391)"
   ]
  },
  {
   "cell_type": "markdown",
   "metadata": {},
   "source": [
    "## Model Building <a href=\"https://spark.apache.org/docs/latest/ml-collaborative-filtering.html\" target=\"_blank\">[REF]</a> <a class=\"anchor\" name=\"model-building\"></a>\n",
    "Collaborative filtering is commonly used for recommender systems. These techniques aim to fill in the missing entries of a user-item association matrix. spark.ml currently supports model-based collaborative filtering, in which users and products are described by a small set of latent factors that can be used to predict missing entries. spark.ml uses the alternating least squares (ALS) algorithm to learn these latent factors. The implementation in spark.ml has the following parameters:\n",
    "\n",
    "- <strong>numBlocks</strong> is the number of blocks the users and items will be partitioned into in order to parallelize computation (defaults to 10).\n",
    "- <strong>rank</strong> is the number of latent factors in the model (defaults to 10).\n",
    "- <strong>maxIter</strong> is the maximum number of iterations to run (defaults to 10).\n",
    "- <strong>regParam</strong> specifies the regularization parameter in ALS (defaults to 1.0).\n",
    "- <strong>implicitPrefs</strong> specifies whether to use the explicit feedback ALS variant or one adapted for implicit feedback data (defaults to false which means using explicit feedback).\n",
    "- <strong>alpha</strong> is a parameter applicable to the implicit feedback variant of ALS that governs the baseline confidence in preference observations (defaults to 1.0).\n",
    "- <strong>nonnegative</strong> specifies whether or not to use nonnegative constraints for least squares (defaults to false)."
   ]
  },
  {
   "cell_type": "code",
   "execution_count": 50,
   "metadata": {},
   "outputs": [],
   "source": [
    "als = ALS(maxIter=5, implicitPrefs=True, alpha=40,userCol=\"user_id\", itemCol=\"artist_id\", ratingCol=\"play_count\",\n",
    "          coldStartStrategy=\"drop\")"
   ]
  },
  {
   "cell_type": "markdown",
   "metadata": {},
   "source": [
    "<a class=\"anchor\" id=\"lab-task-5\"></a> \n",
    "<div style=\"background:rgba(0,109,174,0.2);padding:10px;border-radius:4px\">\n",
    "<strong style=\"color:#FF5555\">5. Lab Task: </strong> \n",
    "Perform the following tasks.\n",
    "    <ul><li>Train the model with the training set created from above.</li><li> Then transform use the test data to get the predictions. </li><li>Display the first 20 predictions from the results.</li></ul>    \n",
    "<i>The predictions shown below will be just indicator of how closely a given artist will be to the user's existing preferences</i>\n",
    "</div>"
   ]
  },
  {
   "cell_type": "code",
   "execution_count": 53,
   "metadata": {},
   "outputs": [],
   "source": [
    "#Write your code below\n",
    "als_model = als.fit(train)"
   ]
  },
  {
   "cell_type": "code",
   "execution_count": 54,
   "metadata": {},
   "outputs": [],
   "source": [
    "predictions = als_model.transform(test)"
   ]
  },
  {
   "cell_type": "code",
   "execution_count": 58,
   "metadata": {},
   "outputs": [
    {
     "name": "stdout",
     "output_type": "stream",
     "text": [
      "+-------+---------+----------+-----------+\n",
      "|user_id|artist_id|play_count| prediction|\n",
      "+-------+---------+----------+-----------+\n",
      "|1001440|  1291109|       207|   1.013867|\n",
      "|1024631|      463|         9|  1.8465946|\n",
      "|1024631|  1004021|         7|  2.0371456|\n",
      "|1024631|  1028228|         1| 0.15522197|\n",
      "|2000668|  1034510|       427|-0.21371382|\n",
      "|2023686|      833|         2| 0.90345025|\n",
      "|2023686|  1014690|         2| 0.27174032|\n",
      "|1059334|  1004552|         1|0.087923914|\n",
      "|1059334|  2025147|         1| 0.91426253|\n",
      "|1055449|  1004021|        88|  1.0772096|\n",
      "|1042223|  1001129|       393|0.083792105|\n",
      "|2010008|     2366|         4|-0.37600628|\n",
      "|1029563|  1245054|         1| -0.6225745|\n",
      "|1029563|  1245208|        38|-0.38326356|\n",
      "|1072684|     3175|        45|-0.45573828|\n",
      "|1007308|  6696725|       303|   0.992609|\n",
      "|1070641|      463|        18|  1.6752324|\n",
      "|1063644|  1009031|       100| -0.5578508|\n",
      "|1046559|      463|       782| 0.61988455|\n",
      "|2288164|  1058104|         4|   1.215444|\n",
      "+-------+---------+----------+-----------+\n",
      "only showing top 20 rows\n",
      "\n"
     ]
    }
   ],
   "source": [
    "predictions.show(20)"
   ]
  },
  {
   "cell_type": "markdown",
   "metadata": {},
   "source": [
    "## Evalutation of ALS <a class=\"anchor\" name=\"evaluation\"></a>\n",
    "We can evaluate ALS using RMSE (Root Mean Squared Error) using the RegressionEvaluator as shown below:"
   ]
  },
  {
   "cell_type": "code",
   "execution_count": 59,
   "metadata": {},
   "outputs": [
    {
     "name": "stdout",
     "output_type": "stream",
     "text": [
      "Root-mean-square error = 6230.798234757282\n"
     ]
    }
   ],
   "source": [
    "#Write your code here\n",
    "from pyspark.ml.evaluation import RegressionEvaluator\n",
    "\n",
    "evaluator = RegressionEvaluator(metricName=\"rmse\", labelCol=\"play_count\",\n",
    "                                predictionCol=\"prediction\")\n",
    "rmse = evaluator.evaluate(predictions)\n",
    "print(\"Root-mean-square error = \" + str(rmse))"
   ]
  },
  {
   "cell_type": "markdown",
   "metadata": {},
   "source": [
    "<strong style=\"color:red\">NOTE: </strong>If you run the above code, the RMSE you will observe is very high. \n",
    "\n",
    "For implicit data, RMSE is not a reliable score since, we don't have any reliable feedback over if items are disliked. RMSE requires knowing which items the user dislikes. Spark does not have a readily available solution for to evaluate the implicit data. The following function implements ROEM (Rank Ordering Error Metric) on the prediction data. You can refer to the details about this <a href=\"https://campus.datacamp.com/courses/recommendation-engines-in-pyspark/what-if-you-dont-have-customer-ratings?ex=6\" target=\"_BLANK\">here</a>."
   ]
  },
  {
   "cell_type": "code",
   "execution_count": 60,
   "metadata": {},
   "outputs": [],
   "source": [
    "def ROEM(predictions, userCol = \"userId\", itemCol = \"songId\", ratingCol = \"num_plays\"):\n",
    "    #Creates table that can be queried\n",
    "    predictions.createOrReplaceTempView(\"predictions\")\n",
    "\n",
    "    #Sum of total number of plays of all songs\n",
    "    denominator = predictions.groupBy().sum(ratingCol).collect()[0][0]\n",
    "\n",
    "    #Calculating rankings of songs predictions by user\n",
    "    spark.sql(\"SELECT \" + userCol + \" , \" + ratingCol + \" , PERCENT_RANK() OVER (PARTITION BY \" + userCol + \" ORDER BY prediction DESC) AS rank FROM predictions\").createOrReplaceTempView(\"rankings\")\n",
    "\n",
    "    #Multiplies the rank of each song by the number of plays and adds the products together\n",
    "    numerator = spark.sql('SELECT SUM(' + ratingCol + ' * rank) FROM rankings').collect()[0][0]\n",
    "\n",
    "    performance = numerator/denominator\n",
    "\n",
    "    return performance"
   ]
  },
  {
   "cell_type": "code",
   "execution_count": 62,
   "metadata": {},
   "outputs": [
    {
     "data": {
      "text/plain": [
       "0.30785602026638925"
      ]
     },
     "execution_count": 62,
     "metadata": {},
     "output_type": "execute_result"
    }
   ],
   "source": [
    "ROEM(predictions,'user_id','artist_id','play_count')"
   ]
  },
  {
   "cell_type": "markdown",
   "metadata": {},
   "source": [
    "The closer to zero the better"
   ]
  },
  {
   "cell_type": "markdown",
   "metadata": {},
   "source": [
    "ROEM = sum of each row(play_count * percentage rank)/total number of plays"
   ]
  },
  {
   "cell_type": "markdown",
   "metadata": {},
   "source": [
    "## Hyperparameter tuning and cross validation <a class=\"anchor\" name=\"cv\"></a>\n",
    "\n",
    "Since we can't use RMSE as the evaluation metric for \"implicit data\", we need to manually implement the hyperparameter tuning for the ALS. This code is adapted from the following source [<a href=\"https://github.com/jamenlong/ALS_expected_percent_rank_cv/blob/master/ROEM_cv.py\" target=\"_BLANK\">ref</a>]\n",
    "\n",
    "<code>alpha</code> is an important hyper-parameter for ALS with implicit feedback. It governs the baseline confidence in preference observations. It is a way to assign a confidence values to the <code>playcount</code>. Higher <code>playcount</code> would mean that we have higher confidence that the user likes that artist and lower <code>playcount</code> would mean the user doesn't like that much."
   ]
  },
  {
   "cell_type": "code",
   "execution_count": 66,
   "metadata": {},
   "outputs": [],
   "source": [
    "from pyspark.sql.functions import rand\n",
    "from pyspark.ml.recommendation import ALS\n",
    "\n",
    "def ROEM_cv(df, userCol = \"user_id\", itemCol = \"artist_id\", ratingCol = \"play_count\", ranks = [10], maxIters = [10], regParams = [.05], alphas = [10, 40]):\n",
    "\n",
    "    ratings_df = df.orderBy(rand()) #Shuffling to ensure randomness\n",
    "\n",
    "    #Building train and validation test sets\n",
    "    train, validate = df.randomSplit([0.8, 0.2], seed = 0)\n",
    "\n",
    "    #Building 3 folds within the training set.\n",
    "    test1, test2,test3 = train.randomSplit([0.33,0.33,0.33], seed = 1)\n",
    "    train1 = test2.union(test3)\n",
    "    train2 = test1.union(test2)\n",
    "    train3 = test1.union(test3)\n",
    "    \n",
    "\n",
    "    #Creating variables that will be replaced by the best model's hyperparameters for subsequent printing\n",
    "    best_validation_performance = 9999999999999\n",
    "    best_rank = 0\n",
    "    best_maxIter = 0\n",
    "    best_regParam = 0\n",
    "    best_alpha = 0\n",
    "    best_model = 0\n",
    "    best_predictions = 0\n",
    "\n",
    "      #Looping through each combindation of hyperparameters to ensure all combinations are tested.\n",
    "    for r in ranks:\n",
    "        for mi in maxIters:\n",
    "            for rp in regParams:\n",
    "                for a in alphas:\n",
    "                #Create ALS model\n",
    "                    als = ALS(rank = r, maxIter = mi, regParam = rp, alpha = a, userCol=userCol, itemCol=itemCol, ratingCol=ratingCol,\n",
    "                            coldStartStrategy=\"drop\", nonnegative = True, implicitPrefs = True)\n",
    "\n",
    "                    #Fit model to each fold in the training set\n",
    "                    model1 = als.fit(train1)\n",
    "                    model2 = als.fit(train2)\n",
    "                    model3 = als.fit(train3)\n",
    "                    \n",
    "                    #Generating model's predictions for each fold in the test set\n",
    "                    predictions1 = model1.transform(test1)\n",
    "                    predictions2 = model2.transform(test2)\n",
    "                    predictions3 = model3.transform(test3)\n",
    "                    \n",
    "                    #Expected percentile rank error metric function\n",
    "                    def ROEM(predictions, userCol = userCol, itemCol = itemCol, ratingCol = ratingCol):\n",
    "                        #Creates table that can be queried\n",
    "                        predictions.createOrReplaceTempView(\"predictions\")\n",
    "\n",
    "                        #Sum of total number of plays of all songs\n",
    "                        denominator = predictions.groupBy().sum(ratingCol).collect()[0][0]\n",
    "\n",
    "                        #Calculating rankings of songs predictions by user\n",
    "                        spark.sql(\"SELECT \" + userCol + \" , \" + ratingCol + \" , PERCENT_RANK() OVER (PARTITION BY \" + userCol + \" ORDER BY prediction DESC) AS rank FROM predictions\").createOrReplaceTempView(\"rankings\")\n",
    "\n",
    "                        #Multiplies the rank of each song by the number of plays and adds the products together\n",
    "                        numerator = spark.sql('SELECT SUM(' + ratingCol + ' * rank) FROM rankings').collect()[0][0]\n",
    "\n",
    "                        performance = numerator/denominator\n",
    "\n",
    "                        return performance\n",
    "\n",
    "                    #Calculating expected percentile rank error metric for the model on each fold's prediction set\n",
    "                    performance1 = ROEM(predictions1)\n",
    "                    performance2 = ROEM(predictions2)\n",
    "                    performance3 = ROEM(predictions3)\n",
    "                    \n",
    "\n",
    "                    #Printing the model's performance on each fold        \n",
    "                    print(\"Model Parameters: \\nRank:\", r,\"\\nMaxIter:\", mi, \"\\nRegParam:\",rp,\"\\nAlpha: \",a)\n",
    "                    print(\"Test Percent Rank Errors: \", performance1, performance2, performance3)\n",
    "\n",
    "                    #Validating the model's performance on the validation set\n",
    "                    validation_model = als.fit(train)\n",
    "                    validation_predictions = validation_model.transform(validate)\n",
    "                    validation_performance = ROEM(validation_predictions)\n",
    "\n",
    "                    #Printing model's final expected percentile ranking error metric\n",
    "                    print(\"Validation Percent Rank Error: \"), validation_performance\n",
    "                    print(\" \")\n",
    "\n",
    "                    #Filling in final hyperparameters with those of the best-performing model\n",
    "                    if validation_performance < best_validation_performance:\n",
    "                        best_validation_performance = validation_performance\n",
    "                        best_rank = r\n",
    "                        best_maxIter = mi\n",
    "                        best_regParam = rp\n",
    "                        best_alpha = a\n",
    "                        best_model = validation_model\n",
    "                        best_predictions = validation_predictions\n",
    "\n",
    "    #Printing best model's expected percentile rank and hyperparameters\n",
    "    print (\"**Best Model** \")\n",
    "    print (\"  Percent Rank Error: \", best_validation_performance)\n",
    "    print (\"  Rank: \", best_rank)\n",
    "    print (\"  MaxIter: \", best_maxIter)\n",
    "    print (\"  RegParam: \", best_regParam)\n",
    "    print (\"  Alpha: \", best_alpha)\n",
    "    \n",
    "    return best_model, best_predictions"
   ]
  },
  {
   "cell_type": "code",
   "execution_count": 68,
   "metadata": {},
   "outputs": [
    {
     "name": "stdout",
     "output_type": "stream",
     "text": [
      "Model Parameters: \n",
      "Rank: 10 \n",
      "MaxIter: 10 \n",
      "RegParam: 0.05 \n",
      "Alpha:  10\n",
      "Test Percent Rank Errors:  0.24184454031271763 0.1648263466366202 0.14469816333294908\n",
      "Validation Percent Rank Error: \n",
      " \n",
      "Model Parameters: \n",
      "Rank: 10 \n",
      "MaxIter: 10 \n",
      "RegParam: 0.05 \n",
      "Alpha:  40\n",
      "Test Percent Rank Errors:  0.40851715822902107 0.18995437173309268 0.2268614308575868\n",
      "Validation Percent Rank Error: \n",
      " \n",
      "**Best Model** \n",
      "  Percent Rank Error:  0.3467905273440353\n",
      "  Rank:  10\n",
      "  MaxIter:  10\n",
      "  RegParam:  0.05\n",
      "  Alpha:  10\n"
     ]
    }
   ],
   "source": [
    "best_model, best_predictions = ROEM_cv(df_user_artist)"
   ]
  },
  {
   "cell_type": "markdown",
   "metadata": {},
   "source": [
    "## Making Predictions <a class=\"anchor\" name=\"predictions\"></a>\n",
    "The k-fold validation implement might take long time to run. You can use the initial ALS model to make the predictions.\n",
    "Assuming you have successfully trained the model, we want to now use the model to <strong>find top Artists recommended for each user</strong>. We can use the <i><strong>recommendForAllUsers</strong></i> function available in the ALS model to get the list of top recommendations for each users. You can further explore the details of the API <a href=\"https://spark.apache.org/docs/2.2.0/api/python/pyspark.ml.html#pyspark.ml.recommendation.ALS\" target=\"_blank\">here</a>.\n",
    "\n",
    "The <code>recommendForAllUsers</code> only gives the list of artist_ids for the users, you can write the code to map these artist_ids back to their names."
   ]
  },
  {
   "cell_type": "code",
   "execution_count": 69,
   "metadata": {},
   "outputs": [
    {
     "name": "stdout",
     "output_type": "stream",
     "text": [
      "+-------+---------------------------------------------------------------------------------------------------------------------------------------------------------------------------------------------------------------------------+\n",
      "|user_id|recommendations                                                                                                                                                                                                            |\n",
      "+-------+---------------------------------------------------------------------------------------------------------------------------------------------------------------------------------------------------------------------------+\n",
      "|1001440|[{1000623, 1.8835696}, {1013705, 1.6597613}, {1287702, 1.6565404}, {1004028, 1.6278344}, {1295531, 1.6065689}, {6709568, 1.5717549}, {1017572, 1.5650964}, {1246073, 1.5476252}, {1250079, 1.5463537}, {1036803, 1.544169}]|\n",
      "|1021940|[{1015157, 1.4413669}, {1006175, 1.3877583}, {1616, 1.3602034}, {4922, 1.3147683}, {1011017, 1.288956}, {1001909, 1.2515329}, {1001861, 1.2198101}, {1191, 1.215957}, {4377, 1.2019032}, {1061806, 1.2014236}]             |\n",
      "|2005710|[{1006800, 1.5647502}, {1254973, 1.4758478}, {111, 1.4264842}, {1279924, 1.3655528}, {1007735, 1.3627551}, {1001792, 1.3455782}, {1002994, 1.3443205}, {1034635, 1.325892}, {388, 1.3076189}, {5527, 1.3007555}]           |\n",
      "|1058890|[{1001646, 1.5298648}, {3324, 1.257809}, {1844, 1.2436142}, {1240979, 1.2237585}, {1006371, 1.167093}, {2003, 1.1563429}, {3437, 1.1482209}, {4468, 1.0970002}, {5705, 1.0905806}, {1250104, 1.0882427}]                   |\n",
      "|1017610|[{1000623, 1.5960392}, {1015566, 1.3058531}, {1234433, 1.2942652}, {191, 1.2897469}, {61, 1.2689039}, {6622181, 1.2285653}, {2229, 1.2251576}, {1201, 1.222355}, {1838, 1.2205362}, {107, 1.2168987}]                      |\n",
      "|2007381|[{1000623, 1.2817146}, {3379, 1.2289639}, {535, 1.221529}, {2, 1.2207161}, {1001909, 1.2159483}, {1005235, 1.1835922}, {61, 1.175384}, {1838, 1.1535323}, {1201, 1.1398673}, {5837, 1.1376083}]                            |\n",
      "|1073421|[{1008419, 1.2491678}, {304, 1.1022478}, {1004421, 1.0896256}, {1003787, 1.0854648}, {1270, 1.0812478}, {1015157, 1.0747398}, {1000188, 1.048299}, {1001068, 1.0481925}, {3321, 1.0439824}, {1000488, 1.0369778}]          |\n",
      "|1024631|[{10029852, 1.8650466}, {1003552, 1.8287225}, {2003, 1.8158225}, {1029530, 1.7964936}, {1051551, 1.7845018}, {1001353, 1.7839428}, {1007999, 1.6827209}, {4311, 1.67731}, {1003704, 1.6714615}, {1018973, 1.667707}]       |\n",
      "|1021501|[{1006650, 1.1116923}, {1007800, 1.1105217}, {1030418, 1.109577}, {1061642, 1.107653}, {1011980, 1.0998}, {1020027, 1.0932434}, {1013456, 1.0917009}, {1013292, 1.0859423}, {1017981, 1.0583357}, {1233712, 1.0534238}]    |\n",
      "|1035511|[{1001909, 1.6968844}, {1010646, 1.6960069}, {1000481, 1.635826}, {1233321, 1.6264315}, {1035309, 1.5683233}, {1009489, 1.5446123}, {281, 1.5320516}, {1893, 1.4930803}, {1233193, 1.4583745}, {1001062, 1.4522635}]       |\n",
      "|1070641|[{478, 1.8864402}, {1002439, 1.7995648}, {1007094, 1.7736535}, {1844, 1.763077}, {1001134, 1.7503086}, {1000313, 1.7490033}, {1006411, 1.7142347}, {302, 1.7131838}, {1004077, 1.6862631}, {1006062, 1.6839147}]           |\n",
      "|2010581|[{478, 1.310977}, {1002439, 1.2822453}, {873, 1.243266}, {508, 1.2311199}, {1015157, 1.2229663}, {191, 1.2173741}, {1034635, 1.2076936}, {1000623, 1.186662}, {1008485, 1.1865726}, {1000024, 1.179102}]                   |\n",
      "|1052461|[{1252, 1.5089954}, {744, 1.4909555}, {1000271, 1.4889969}, {221, 1.4850906}, {1029494, 1.4674331}, {1006286, 1.4603881}, {542, 1.4359379}, {2083, 1.4283191}, {1034635, 1.4268748}, {1002465, 1.4168227}]                 |\n",
      "|2064012|[{300, 0.0}, {250, 0.0}, {244, 0.0}, {240, 0.0}, {234, 0.0}, {230, 0.0}, {228, 0.0}, {227, 0.0}, {225, 0.0}, {224, 0.0}]                                                                                                   |\n",
      "|1048402|[{1006286, 1.698548}, {1010370, 1.6409941}, {1007685, 1.5912708}, {122, 1.5456358}, {1616, 1.5410609}, {1009409, 1.5310732}, {1011017, 1.5182936}, {1011403, 1.5102379}, {2083, 1.4941471}, {3589, 1.4891164}]             |\n",
      "|1070932|[{478, 1.6120083}, {1001646, 1.5315328}, {1844, 1.5309062}, {1004077, 1.4449772}, {5705, 1.4233764}, {302, 1.3910834}, {191, 1.38555}, {1006411, 1.3759712}, {1002439, 1.3724154}, {1000313, 1.3720876}]                   |\n",
      "|1047812|[{1015157, 1.2085979}, {1034635, 1.1947604}, {59, 1.1630129}, {4061, 1.1515653}, {873, 1.1461854}, {5409, 1.1443578}, {478, 1.142875}, {1007735, 1.1333313}, {1000024, 1.1091323}, {1002439, 1.1007714}]                   |\n",
      "|2023742|[{478, 1.5668309}, {873, 1.3344078}, {1000024, 1.3292358}, {793, 1.2860073}, {5705, 1.2717848}, {1, 1.2567643}, {4468, 1.2529151}, {1002575, 1.2248652}, {1001534, 1.2194754}, {1195, 1.2171808}]                          |\n",
      "|1042223|[{1002439, 1.536815}, {1019921, 1.4918166}, {1015157, 1.4512844}, {873, 1.4181435}, {508, 1.3828182}, {478, 1.3750974}, {3876, 1.366034}, {1050004, 1.3221136}, {1007863, 1.3175421}, {1007027, 1.3169141}]                |\n",
      "|1029563|[{1077309, 1.1664926}, {1297039, 1.062865}, {4209, 1.0425731}, {1000748, 1.0419868}, {1010874, 1.0300556}, {1001588, 1.0274708}, {1330, 1.025798}, {1007045, 1.0211519}, {1006175, 1.0205103}, {191, 1.0174919}]           |\n",
      "+-------+---------------------------------------------------------------------------------------------------------------------------------------------------------------------------------------------------------------------------+\n",
      "only showing top 20 rows\n",
      "\n"
     ]
    }
   ],
   "source": [
    "best_model.recommendForAllUsers(10).show(truncate=False)"
   ]
  },
  {
   "attachments": {
    "image.png": {
     "image/png": "[encoded data removed]"
    }
   },
   "cell_type": "markdown",
   "metadata": {},
   "source": [
    "<a class=\"anchor\" id=\"lab-task-6\"></a>\n",
    "<div style=\"background:rgba(0,109,174,0.2);padding:10px;border-radius:4px\"><strong style=\"color:#FF5555\">6. Lab Task: </strong> \n",
    "    Write a function to find the top <strong>N</strong> recommended artists for the user : <strong>2062243</strong>. Display  <code>artist_id and artist_name</code> both. A sample output is given below.\n",
    "</div>\n",
    "\n",
    "![image.png](attachment:image.png)"
   ]
  },
  {
   "cell_type": "code",
   "execution_count": 83,
   "metadata": {},
   "outputs": [
    {
     "data": {
      "text/plain": [
       "{1000873: 1.4589438438415527,\n",
       " 1007735: 1.4356391429901123,\n",
       " 3033: 1.4199113845825195,\n",
       " 1034635: 1.3756353855133057,\n",
       " 1000881: 1.34904944896698,\n",
       " 4061: 1.3264453411102295,\n",
       " 1252: 1.3222652673721313,\n",
       " 1002835: 1.3220020532608032,\n",
       " 1007498: 1.3145751953125,\n",
       " 1000115: 1.3109314441680908,\n",
       " 1001708: 1.302591323852539,\n",
       " 1002097: 1.2970004081726074,\n",
       " 1001007: 1.2966996431350708,\n",
       " 949: 1.2850158214569092,\n",
       " 1001483: 1.283460021018982,\n",
       " 1616: 1.2808550596237183,\n",
       " 1002370: 1.2774134874343872,\n",
       " 1000152: 1.2692629098892212,\n",
       " 1001079: 1.2681050300598145,\n",
       " 1204: 1.267783522605896}"
      ]
     },
     "execution_count": 83,
     "metadata": {},
     "output_type": "execute_result"
    }
   ],
   "source": [
    "x[0] : x[1] for x in best_model.recommendForAllUsers(20).filter(col('user_id')==2062243).select(\"recommendations\").collect()[0][0]"
   ]
  },
  {
   "cell_type": "code",
   "execution_count": 85,
   "metadata": {},
   "outputs": [],
   "source": [
    "def get_artist_id(recommendations):\n",
    "    return recommendations[0]\n",
    "get_artist_id_udf = udf(get_artist_id, IntegerType())"
   ]
  },
  {
   "cell_type": "code",
   "execution_count": 101,
   "metadata": {},
   "outputs": [
    {
     "name": "stdout",
     "output_type": "stream",
     "text": [
      "+-------+------------------+\n",
      "|     _1|                _2|\n",
      "+-------+------------------+\n",
      "|   woah|              mama|\n",
      "|1000873|1.4589438438415527|\n",
      "|1007735|1.4356391429901123|\n",
      "|   3033|1.4199113845825195|\n",
      "|1034635|1.3756353855133057|\n",
      "|1000881|  1.34904944896698|\n",
      "|   4061|1.3264453411102295|\n",
      "|   1252|1.3222652673721313|\n",
      "|1002835|1.3220020532608032|\n",
      "|1007498|   1.3145751953125|\n",
      "|1000115|1.3109314441680908|\n",
      "|1001708| 1.302591323852539|\n",
      "|1002097|1.2970004081726074|\n",
      "|1001007|1.2966996431350708|\n",
      "|    949|1.2850158214569092|\n",
      "|1001483| 1.283460021018982|\n",
      "|   1616|1.2808550596237183|\n",
      "|1002370|1.2774134874343872|\n",
      "|1000152|1.2692629098892212|\n",
      "|1001079|1.2681050300598145|\n",
      "+-------+------------------+\n",
      "only showing top 20 rows\n",
      "\n"
     ]
    }
   ],
   "source": [
    "# create dataframe from set\n",
    "spark.createDataFrame([[\"woah\", \"mama\"]] + [[x[0],x[1]] for x in best_model.recommendForAllUsers(20).filter(col('user_id')==2062243).select(\"recommendations\").collect()[0][0]]).show()\n"
   ]
  },
  {
   "cell_type": "code",
   "execution_count": 107,
   "metadata": {},
   "outputs": [],
   "source": [
    "def recommendedArtists(als_model,user_id,limit):\n",
    "    #get the recommendations\n",
    "    selected_user = als_model.recommendForAllUsers(limit).filter(col('user_id')==user_id) \n",
    "    data = selected_user.select(\"recommendations\").collect()[0][0]\n",
    "    data = [[x[0],x[1]] for x in data]\n",
    "    user_artist_rating = spark.createDataFrame(data).withColumnRenamed(\"_1\",\"artist_id\").withColumnRenamed(\"_2\",\"rating\")\n",
    "    \n",
    "    #join the top_artist dataframe with the artist master dataframe to include the artist_name\n",
    "    top_artist = df_artist.join(user_artist_rating,df_artist.artist_id==user_artist_rating.artist_id)\\\n",
    "                .drop(user_artist_rating.artist_id)\\\n",
    "                .sort(user_artist_rating.rating.desc())\n",
    "    \n",
    "    return top_artist"
   ]
  },
  {
   "cell_type": "code",
   "execution_count": 108,
   "metadata": {},
   "outputs": [
    {
     "name": "stdout",
     "output_type": "stream",
     "text": [
      "+---------+------------------+------------------+\n",
      "|artist_id|artist_name       |rating            |\n",
      "+---------+------------------+------------------+\n",
      "|1000873  |Our Lady Peace    |1.4589438438415527|\n",
      "|1007735  |Hot Hot Heat      |1.4356391429901123|\n",
      "|3033     |Matchbox Twenty   |1.4199113845825195|\n",
      "|1034635  |[unknown]         |1.3756353855133057|\n",
      "|1000881  |Howard Shore      |1.34904944896698  |\n",
      "|4061     |Marilyn Manson    |1.3264453411102295|\n",
      "|1252     |Travis            |1.3222652673721313|\n",
      "|1002835  |Fastball          |1.3220020532608032|\n",
      "|1007498  |10,000 Maniacs    |1.3145751953125   |\n",
      "|1000115  |Papa Roach        |1.3109314441680908|\n",
      "|1001708  |Thin Lizzy        |1.302591323852539 |\n",
      "|1002097  |The Crystal Method|1.2970004081726074|\n",
      "|1001007  |Third Eye Blind   |1.2966996431350708|\n",
      "|949      |Ben Folds Five    |1.2850158214569092|\n",
      "|1001483  |Powerman 5000     |1.283460021018982 |\n",
      "|1616     |King Crimson      |1.2808550596237183|\n",
      "|1002370  |Vertical Horizon  |1.2774134874343872|\n",
      "|1000152  |Cold              |1.2692629098892212|\n",
      "|1001079  |Default           |1.2681050300598145|\n",
      "|1204     |Frank Sinatra     |1.267783522605896 |\n",
      "+---------+------------------+------------------+\n",
      "\n"
     ]
    }
   ],
   "source": [
    "#Write your code here\n",
    "recommendedArtists(best_model,2062243,20).show(truncate=False)"
   ]
  },
  {
   "cell_type": "markdown",
   "metadata": {},
   "source": [
    "### Congratulations on finishing this activity. See you next week."
   ]
  }
 ],
 "metadata": {
  "kernelspec": {
   "display_name": "Python 3 (ipykernel)",
   "language": "python",
   "name": "python3"
  },
  "language_info": {
   "codemirror_mode": {
    "name": "ipython",
    "version": 3
   },
   "file_extension": ".py",
   "mimetype": "text/x-python",
   "name": "python",
   "nbconvert_exporter": "python",
   "pygments_lexer": "ipython3",
   "version": "3.10.11"
  }
 },
 "nbformat": 4,
 "nbformat_minor": 4
}
